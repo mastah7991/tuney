{
 "cells": [
  {
   "cell_type": "markdown",
   "id": "4e87f1d1",
   "metadata": {},
   "source": [
    "# NumPy"
   ]
  },
  {
   "cell_type": "markdown",
   "id": "13244b33",
   "metadata": {},
   "source": [
    "Your task is to implement two functions using numpy."
   ]
  },
  {
   "cell_type": "code",
   "execution_count": 1,
   "id": "eb8592fe",
   "metadata": {},
   "outputs": [],
   "source": [
    "import numpy as np"
   ]
  },
  {
   "cell_type": "markdown",
   "id": "fbf21ffb",
   "metadata": {},
   "source": [
    "1. Implement Sigmoid $$\\sigma(x) = \\frac{1}{1 + e^{-x}}$$\n"
   ]
  },
  {
   "cell_type": "code",
   "execution_count": 2,
   "id": "163b2aa3",
   "metadata": {},
   "outputs": [],
   "source": [
    "def sigmoid(x: np.ndarray) -> np.ndarray:\n",
    "    return X\n",
    "    \n",
    "    \n",
    "X = np.random.uniform(low=-10, high=10, size=(1000, 2000))\n",
    "\n",
    "assert sigmoid(X).max() <= 1.\n",
    "assert sigmoid(X).min() >= 0."
   ]
  },
  {
   "cell_type": "markdown",
   "id": "e833da9f",
   "metadata": {},
   "source": [
    "2. Implement normalization\n",
    "$$f(x_{ij}) = \\frac{x_{ij} - \\mu_j}{\\sigma_j}$$\n",
    "\n",
    "Where $\\mu_j$\n",
    "  is the average value of the column $j$\n",
    ", $\\sigma_j$\n",
    "  is the standard deviation of the column $j$\n",
    "  "
   ]
  },
  {
   "cell_type": "code",
   "execution_count": 3,
   "id": "ac5f443d",
   "metadata": {},
   "outputs": [],
   "source": [
    "X = np.random.uniform(low=-10, high=10, size=(100, 10))\n",
    "\n",
    "X_hat = X\n",
    "\n",
    "\n",
    "assert np.allclose(X_hat.mean(), 0.)\n",
    "assert np.allclose(X_hat.std(), 1.)"
   ]
  }
 ],
 "metadata": {
  "kernelspec": {
   "display_name": "Python 3 (ipykernel)",
   "language": "python",
   "name": "python3"
  },
  "language_info": {
   "codemirror_mode": {
    "name": "ipython",
    "version": 3
   },
   "file_extension": ".py",
   "mimetype": "text/x-python",
   "name": "python",
   "nbconvert_exporter": "python",
   "pygments_lexer": "ipython3",
   "version": "3.9.16"
  }
 },
 "nbformat": 4,
 "nbformat_minor": 5
}
