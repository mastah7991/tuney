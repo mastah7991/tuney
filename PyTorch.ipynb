{
 "cells": [
  {
   "cell_type": "markdown",
   "id": "ac85fbce",
   "metadata": {},
   "source": [
    " # PyTorch"
   ]
  },
  {
   "cell_type": "markdown",
   "id": "5706e5ee",
   "metadata": {},
   "source": [
    " Your task is to implement dropout layer. ([PAPER](https://arxiv.org/abs/1207.0580))\n",
    " \n",
    " To install pytorch (cpu only) you can use `conda install pytorch torchvision cpuonly -c pytorch`\n",
    " \n",
    " hint: `torch.bernoulli`\n",
    " "
   ]
  },
  {
   "cell_type": "code",
   "execution_count": 1,
   "id": "e5e229eb",
   "metadata": {},
   "outputs": [],
   "source": [
    "import torch\n",
    "import matplotlib.pyplot as plt\n",
    "import numpy as np"
   ]
  },
  {
   "cell_type": "code",
   "execution_count": 2,
   "id": "c02cf6f0",
   "metadata": {},
   "outputs": [],
   "source": [
    "def test_droput(dropout_cls):\n",
    "\n",
    "    drop = dropout_cls(0.5)\n",
    "    drop.train()\n",
    "    x = torch.randn(10, 30)\n",
    "    out = drop(x)\n",
    "\n",
    "    for row in out:\n",
    "        zeros_in_row = len(torch.where(row == 0.)[0]) \n",
    "        assert zeros_in_row > 0 and zeros_in_row < len(row)\n",
    "\n",
    "    drop_eval = dropout_cls(0.5)\n",
    "    drop_eval.eval()\n",
    "    x = torch.randn(10, 30)\n",
    "    out_eval = drop_eval(x)\n",
    "\n",
    "    for row in out_eval:\n",
    "        zeros_in_row = len(torch.where(row == 0.)[0]) \n",
    "        assert zeros_in_row == 0"
   ]
  },
  {
   "cell_type": "markdown",
   "id": "5c1e3a0a",
   "metadata": {},
   "source": [
    "![image](dropout.png)\n"
   ]
  },
  {
   "cell_type": "code",
   "execution_count": 3,
   "id": "df17d200",
   "metadata": {},
   "outputs": [],
   "source": [
    "class Dropout(torch.nn.Module):\n",
    "    \n",
    "    def __init__(self, p=0.5):\n",
    "        super(Dropout, self).__init__()\n",
    "        self.p = p\n",
    "  \n",
    "    def forward(self, x):\n",
    "        pass\n",
    "        # YOUR IMPLEMENTATION HERE"
   ]
  },
  {
   "cell_type": "code",
   "execution_count": 4,
   "id": "5da9cbc5",
   "metadata": {},
   "outputs": [],
   "source": [
    "test_droput(Dropout)\n"
   ]
  }
 ],
 "metadata": {
  "kernelspec": {
   "display_name": "Python 3 (ipykernel)",
   "language": "python",
   "name": "python3"
  },
  "language_info": {
   "codemirror_mode": {
    "name": "ipython",
    "version": 3
   },
   "file_extension": ".py",
   "mimetype": "text/x-python",
   "name": "python",
   "nbconvert_exporter": "python",
   "pygments_lexer": "ipython3",
   "version": "3.9.16"
  }
 },
 "nbformat": 4,
 "nbformat_minor": 5
}
