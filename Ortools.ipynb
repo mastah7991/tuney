{
 "cells": [
  {
   "cell_type": "code",
   "execution_count": 1,
   "id": "9df5db25",
   "metadata": {},
   "outputs": [
    {
     "name": "stdout",
     "output_type": "stream",
     "text": [
      "Requirement already satisfied: ortools in c:\\users\\masta\\.conda\\envs\\tuney\\lib\\site-packages (9.6.2534)\n",
      "Requirement already satisfied: absl-py>=0.13 in c:\\users\\masta\\.conda\\envs\\tuney\\lib\\site-packages (from ortools) (1.4.0)\n",
      "Requirement already satisfied: numpy>=1.13.3 in c:\\users\\masta\\.conda\\envs\\tuney\\lib\\site-packages (from ortools) (1.24.3)\n",
      "Requirement already satisfied: protobuf>=4.21.12 in c:\\users\\masta\\appdata\\roaming\\python\\python39\\site-packages (from ortools) (4.22.3)\n",
      "Requirement already satisfied: scipy>=1.10.0 in c:\\users\\masta\\.conda\\envs\\tuney\\lib\\site-packages (from ortools) (1.10.1)\n"
     ]
    }
   ],
   "source": [
    "!pip install ortools"
   ]
  },
  {
   "cell_type": "code",
   "execution_count": 2,
   "id": "d096ed44",
   "metadata": {},
   "outputs": [],
   "source": [
    "import numpy as np\n",
    "from ortools.sat.python import cp_model\n",
    "class ModelDataSolutionPrinter(cp_model.CpSolverSolutionCallback):\n",
    "    \"\"\"Print intermediate solutions.\"\"\"\n",
    "\n",
    "    def __init__(self, variables, solutions):\n",
    "        cp_model.CpSolverSolutionCallback.__init__(self)\n",
    "        self.__variables = variables\n",
    "        self.solutions = solutions\n",
    "        \n",
    "    def on_solution_callback(self):\n",
    "        new_soution = {v.Name(): self.Value(v) for v in self.__variables}\n",
    "        self.solutions.append(new_soution)"
   ]
  },
  {
   "cell_type": "markdown",
   "id": "fe526424",
   "metadata": {},
   "source": [
    "# ORTOOLS"
   ]
  },
  {
   "cell_type": "markdown",
   "id": "ca274e21",
   "metadata": {},
   "source": [
    "Your task is to implement ortools constraints that solve the problem defined below:"
   ]
  },
  {
   "cell_type": "markdown",
   "id": "e6d640d9",
   "metadata": {},
   "source": [
    "You have to two sets of balls `blue` and `red`. Each ball contains an `index`.\n",
    "\n",
    "You need to find all possible pairs that satisfy certain constraints:\n",
    "- the `index` of the `blue` and the `red` ball must be different\n",
    "- the `index` of the `red` ball must be greater than the `blue`\n",
    "- differences between `blue` and `red` must be equal to `1` or `2` or `3` or `5`"
   ]
  },
  {
   "cell_type": "code",
   "execution_count": 3,
   "id": "a8932e5a",
   "metadata": {},
   "outputs": [],
   "source": [
    "np.random.seed(2137)\n",
    "\n",
    "BALLS = 50\n",
    "\n",
    "balls_blue = np.random.choice(range(BALLS), BALLS//2)\n",
    "balls_red = np.random.choice(range(BALLS), BALLS//2)\n",
    "\n",
    "fib = [1, 2, 3, 5]"
   ]
  },
  {
   "cell_type": "code",
   "execution_count": 4,
   "id": "8f293b28",
   "metadata": {},
   "outputs": [
    {
     "data": {
      "text/plain": [
       "<ortools.sat.python.cp_model.Constraint at 0x1f01b1ec460>"
      ]
     },
     "execution_count": 4,
     "metadata": {},
     "output_type": "execute_result"
    }
   ],
   "source": [
    "model = cp_model.CpModel()\n",
    "\n",
    "red = model.NewIntVar(0, BALLS, 'red')\n",
    "blue = model.NewIntVar(0, BALLS, 'blue')\n",
    "\n",
    "model.AddAllowedAssignments([red], [[x] for x in balls_red])\n",
    "model.AddAllowedAssignments([blue], [[x] for x in balls_blue])"
   ]
  },
  {
   "cell_type": "code",
   "execution_count": 5,
   "id": "c02e8c00",
   "metadata": {},
   "outputs": [],
   "source": [
    "# YOUR IMPLEMENTATION HERE"
   ]
  },
  {
   "cell_type": "code",
   "execution_count": 7,
   "id": "7a6a23f9",
   "metadata": {},
   "outputs": [],
   "source": [
    "solver = cp_model.CpSolver()\n",
    "solver.parameters.enumerate_all_solutions = True\n",
    "solutions = []\n",
    "\n",
    "solution_printer = ModelDataSolutionPrinter([blue, red], solutions)\n",
    "status = solver.Solve(model, solution_printer)"
   ]
  },
  {
   "cell_type": "code",
   "execution_count": 8,
   "id": "c3348af7",
   "metadata": {},
   "outputs": [
    {
     "data": {
      "text/plain": [
       "[{'blue': 9, 'red': 10},\n",
       " {'blue': 12, 'red': 13},\n",
       " {'blue': 16, 'red': 17},\n",
       " {'blue': 17, 'red': 18},\n",
       " {'blue': 27, 'red': 28},\n",
       " {'blue': 29, 'red': 30},\n",
       " {'blue': 38, 'red': 39},\n",
       " {'blue': 41, 'red': 42},\n",
       " {'blue': 44, 'red': 45},\n",
       " {'blue': 29, 'red': 34},\n",
       " {'blue': 34, 'red': 39},\n",
       " {'blue': 20, 'red': 25},\n",
       " {'blue': 21, 'red': 26},\n",
       " {'blue': 12, 'red': 17},\n",
       " {'blue': 12, 'red': 15},\n",
       " {'blue': 0, 'red': 3},\n",
       " {'blue': 22, 'red': 25},\n",
       " {'blue': 27, 'red': 30},\n",
       " {'blue': 31, 'red': 34},\n",
       " {'blue': 39, 'red': 42},\n",
       " {'blue': 42, 'red': 45},\n",
       " {'blue': 32, 'red': 34},\n",
       " {'blue': 28, 'red': 30},\n",
       " {'blue': 16, 'red': 18},\n",
       " {'blue': 9, 'red': 11},\n",
       " {'blue': 11, 'red': 13},\n",
       " {'blue': 0, 'red': 2}]"
      ]
     },
     "execution_count": 8,
     "metadata": {},
     "output_type": "execute_result"
    }
   ],
   "source": [
    "solutions"
   ]
  }
 ],
 "metadata": {
  "kernelspec": {
   "display_name": "Python 3 (ipykernel)",
   "language": "python",
   "name": "python3"
  },
  "language_info": {
   "codemirror_mode": {
    "name": "ipython",
    "version": 3
   },
   "file_extension": ".py",
   "mimetype": "text/x-python",
   "name": "python",
   "nbconvert_exporter": "python",
   "pygments_lexer": "ipython3",
   "version": "3.9.16"
  }
 },
 "nbformat": 4,
 "nbformat_minor": 5
}
